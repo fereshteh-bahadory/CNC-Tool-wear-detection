{
 "cells": [
  {
   "cell_type": "markdown",
   "id": "aece64f6-3c15-49e6-8a3e-c52deb2965aa",
   "metadata": {},
   "source": [
    "# CNC Mill Tool Wear\r\n"
   ]
  },
  {
   "cell_type": "markdown",
   "id": "ec3afd53-dec3-4b52-b9eb-9ce8606f3abe",
   "metadata": {},
   "source": [
    "## Table of contents<a name=top></a>\r",
    "1. [Data describtion](#des)<br> \n",
    "1. [Import libraries](#import)<br> \n",
    "1. [Load Datasets](#load)<br>\n",
    "1. [Pre-processing](#pre)<br>\n",
    "    * [Missing values](#miss)<br>\n",
    "    * [Merge Data](#merge)<br>\n"
   ]
  },
  {
   "cell_type": "markdown",
   "id": "57e06ad0-71d0-4149-baf5-bc16b1a88c2b",
   "metadata": {},
   "source": [
    "## Data describtion<a name=des></a>\n",
    "In this project, a CNC milling machine was used to perform machining experiments. The CNC machine recorded machining data for different settings of tool condition, feed rate, and clamping pressure. More details about the dataset can be found [here](https://www.kaggle.com/datasets/shasun/tool-wear-detection-in-cnc-mill/data).<br>\n",
    "The CNC machine had 4 motors (X, Y, Z axes and spindle) that generated time series data with a 100 ms interval in 18 machining experiments. The output of each experiment showed the tool condition (whether the tool was worn or not) and the result of visual inspection. This dataset is useful for finding tool wear or poor clamping."
   ]
  },
  {
   "cell_type": "markdown",
   "id": "e02d4fc2-0ba8-423f-873b-61150291094d",
   "metadata": {},
   "source": [
    "## Import libraries<a name=import></a>"
   ]
  },
  {
   "cell_type": "code",
   "execution_count": 1,
   "id": "5fbac403-3755-4f23-8f1c-80120abff381",
   "metadata": {},
   "outputs": [],
   "source": [
    "import pandas as pd\n",
    "import numpy as np\n",
    "import matplotlib.pyplot as plt"
   ]
  },
  {
   "cell_type": "markdown",
   "id": "9a254c0f-2177-4f4d-bbe5-028dbe82107d",
   "metadata": {},
   "source": [
    "## Load datasets<a name=load></a>"
   ]
  },
  {
   "cell_type": "code",
   "execution_count": 2,
   "id": "5faf43f0-7bb2-464c-a99a-12be1218b71e",
   "metadata": {},
   "outputs": [
    {
     "name": "stdout",
     "output_type": "stream",
     "text": [
      "shape of train_data : (18, 7)\n"
     ]
    },
    {
     "data": {
      "text/html": [
       "<div>\n",
       "<style scoped>\n",
       "    .dataframe tbody tr th:only-of-type {\n",
       "        vertical-align: middle;\n",
       "    }\n",
       "\n",
       "    .dataframe tbody tr th {\n",
       "        vertical-align: top;\n",
       "    }\n",
       "\n",
       "    .dataframe thead th {\n",
       "        text-align: right;\n",
       "    }\n",
       "</style>\n",
       "<table border=\"1\" class=\"dataframe\">\n",
       "  <thead>\n",
       "    <tr style=\"text-align: right;\">\n",
       "      <th></th>\n",
       "      <th>No</th>\n",
       "      <th>material</th>\n",
       "      <th>feedrate</th>\n",
       "      <th>clamp_pressure</th>\n",
       "      <th>tool_condition</th>\n",
       "      <th>machining_finalized</th>\n",
       "      <th>passed_visual_inspection</th>\n",
       "    </tr>\n",
       "  </thead>\n",
       "  <tbody>\n",
       "    <tr>\n",
       "      <th>0</th>\n",
       "      <td>1</td>\n",
       "      <td>wax</td>\n",
       "      <td>6</td>\n",
       "      <td>4.0</td>\n",
       "      <td>unworn</td>\n",
       "      <td>yes</td>\n",
       "      <td>yes</td>\n",
       "    </tr>\n",
       "    <tr>\n",
       "      <th>1</th>\n",
       "      <td>2</td>\n",
       "      <td>wax</td>\n",
       "      <td>20</td>\n",
       "      <td>4.0</td>\n",
       "      <td>unworn</td>\n",
       "      <td>yes</td>\n",
       "      <td>yes</td>\n",
       "    </tr>\n",
       "  </tbody>\n",
       "</table>\n",
       "</div>"
      ],
      "text/plain": [
       "   No material  feedrate  clamp_pressure tool_condition machining_finalized  \\\n",
       "0   1      wax         6             4.0         unworn                 yes   \n",
       "1   2      wax        20             4.0         unworn                 yes   \n",
       "\n",
       "  passed_visual_inspection  \n",
       "0                      yes  \n",
       "1                      yes  "
      ]
     },
     "execution_count": 2,
     "metadata": {},
     "output_type": "execute_result"
    }
   ],
   "source": [
    "train_data=pd.read_csv(r'E:/udemy/proj/train.csv')\n",
    "print(f'shape of train_data : {train_data.shape}')\n",
    "train_data.head(2)"
   ]
  },
  {
   "cell_type": "code",
   "execution_count": 3,
   "id": "1aad78fe-7c03-46f1-b8b3-ad2235946f3f",
   "metadata": {},
   "outputs": [
    {
     "name": "stdout",
     "output_type": "stream",
     "text": [
      "<class 'pandas.core.frame.DataFrame'>\n",
      "RangeIndex: 18 entries, 0 to 17\n",
      "Data columns (total 7 columns):\n",
      " #   Column                    Non-Null Count  Dtype  \n",
      "---  ------                    --------------  -----  \n",
      " 0   No                        18 non-null     int64  \n",
      " 1   material                  18 non-null     object \n",
      " 2   feedrate                  18 non-null     int64  \n",
      " 3   clamp_pressure            18 non-null     float64\n",
      " 4   tool_condition            18 non-null     object \n",
      " 5   machining_finalized       18 non-null     object \n",
      " 6   passed_visual_inspection  14 non-null     object \n",
      "dtypes: float64(1), int64(2), object(4)\n",
      "memory usage: 1.1+ KB\n"
     ]
    }
   ],
   "source": [
    "train_data.info()"
   ]
  },
  {
   "cell_type": "code",
   "execution_count": 4,
   "id": "9d0ca2ab-5edd-4120-a5ae-6e8d8e8fa252",
   "metadata": {},
   "outputs": [
    {
     "name": "stdout",
     "output_type": "stream",
     "text": [
      "shape of experiment_01 : (1055, 48)\n"
     ]
    },
    {
     "data": {
      "text/html": [
       "<div>\n",
       "<style scoped>\n",
       "    .dataframe tbody tr th:only-of-type {\n",
       "        vertical-align: middle;\n",
       "    }\n",
       "\n",
       "    .dataframe tbody tr th {\n",
       "        vertical-align: top;\n",
       "    }\n",
       "\n",
       "    .dataframe thead th {\n",
       "        text-align: right;\n",
       "    }\n",
       "</style>\n",
       "<table border=\"1\" class=\"dataframe\">\n",
       "  <thead>\n",
       "    <tr style=\"text-align: right;\">\n",
       "      <th></th>\n",
       "      <th>X1_ActualPosition</th>\n",
       "      <th>X1_ActualVelocity</th>\n",
       "      <th>X1_ActualAcceleration</th>\n",
       "      <th>X1_CommandPosition</th>\n",
       "      <th>X1_CommandVelocity</th>\n",
       "      <th>X1_CommandAcceleration</th>\n",
       "      <th>X1_CurrentFeedback</th>\n",
       "      <th>X1_DCBusVoltage</th>\n",
       "      <th>X1_OutputCurrent</th>\n",
       "      <th>X1_OutputVoltage</th>\n",
       "      <th>...</th>\n",
       "      <th>S1_CurrentFeedback</th>\n",
       "      <th>S1_DCBusVoltage</th>\n",
       "      <th>S1_OutputCurrent</th>\n",
       "      <th>S1_OutputVoltage</th>\n",
       "      <th>S1_OutputPower</th>\n",
       "      <th>S1_SystemInertia</th>\n",
       "      <th>M1_CURRENT_PROGRAM_NUMBER</th>\n",
       "      <th>M1_sequence_number</th>\n",
       "      <th>M1_CURRENT_FEEDRATE</th>\n",
       "      <th>Machining_Process</th>\n",
       "    </tr>\n",
       "  </thead>\n",
       "  <tbody>\n",
       "    <tr>\n",
       "      <th>0</th>\n",
       "      <td>198.0</td>\n",
       "      <td>0.0</td>\n",
       "      <td>0.0</td>\n",
       "      <td>198.0</td>\n",
       "      <td>0.0</td>\n",
       "      <td>0.0</td>\n",
       "      <td>0.18</td>\n",
       "      <td>0.0207</td>\n",
       "      <td>329.0</td>\n",
       "      <td>2.77</td>\n",
       "      <td>...</td>\n",
       "      <td>0.524</td>\n",
       "      <td>2.740000e-19</td>\n",
       "      <td>329.0</td>\n",
       "      <td>0.0</td>\n",
       "      <td>6.960000e-07</td>\n",
       "      <td>12.0</td>\n",
       "      <td>1.0</td>\n",
       "      <td>0.0</td>\n",
       "      <td>50.0</td>\n",
       "      <td>Starting</td>\n",
       "    </tr>\n",
       "    <tr>\n",
       "      <th>1</th>\n",
       "      <td>198.0</td>\n",
       "      <td>-10.8</td>\n",
       "      <td>-350.0</td>\n",
       "      <td>198.0</td>\n",
       "      <td>-13.6</td>\n",
       "      <td>-358.0</td>\n",
       "      <td>-10.90</td>\n",
       "      <td>0.1860</td>\n",
       "      <td>328.0</td>\n",
       "      <td>23.30</td>\n",
       "      <td>...</td>\n",
       "      <td>-0.288</td>\n",
       "      <td>2.740000e-19</td>\n",
       "      <td>328.0</td>\n",
       "      <td>0.0</td>\n",
       "      <td>-5.270000e-07</td>\n",
       "      <td>12.0</td>\n",
       "      <td>1.0</td>\n",
       "      <td>4.0</td>\n",
       "      <td>50.0</td>\n",
       "      <td>Prep</td>\n",
       "    </tr>\n",
       "  </tbody>\n",
       "</table>\n",
       "<p>2 rows × 48 columns</p>\n",
       "</div>"
      ],
      "text/plain": [
       "   X1_ActualPosition  X1_ActualVelocity  X1_ActualAcceleration  \\\n",
       "0              198.0                0.0                    0.0   \n",
       "1              198.0              -10.8                 -350.0   \n",
       "\n",
       "   X1_CommandPosition  X1_CommandVelocity  X1_CommandAcceleration  \\\n",
       "0               198.0                 0.0                     0.0   \n",
       "1               198.0               -13.6                  -358.0   \n",
       "\n",
       "   X1_CurrentFeedback  X1_DCBusVoltage  X1_OutputCurrent  X1_OutputVoltage  \\\n",
       "0                0.18           0.0207             329.0              2.77   \n",
       "1              -10.90           0.1860             328.0             23.30   \n",
       "\n",
       "   ...  S1_CurrentFeedback  S1_DCBusVoltage  S1_OutputCurrent  \\\n",
       "0  ...               0.524     2.740000e-19             329.0   \n",
       "1  ...              -0.288     2.740000e-19             328.0   \n",
       "\n",
       "   S1_OutputVoltage  S1_OutputPower  S1_SystemInertia  \\\n",
       "0               0.0    6.960000e-07              12.0   \n",
       "1               0.0   -5.270000e-07              12.0   \n",
       "\n",
       "   M1_CURRENT_PROGRAM_NUMBER  M1_sequence_number  M1_CURRENT_FEEDRATE  \\\n",
       "0                        1.0                 0.0                 50.0   \n",
       "1                        1.0                 4.0                 50.0   \n",
       "\n",
       "   Machining_Process  \n",
       "0           Starting  \n",
       "1               Prep  \n",
       "\n",
       "[2 rows x 48 columns]"
      ]
     },
     "execution_count": 4,
     "metadata": {},
     "output_type": "execute_result"
    }
   ],
   "source": [
    "experiment_01 = pd.read_csv(r\"E:/udemy/proj/experiment_01.csv\")\n",
    "print(f'shape of experiment_01 : {experiment_01.shape}')\n",
    "experiment_01.head(2)"
   ]
  },
  {
   "cell_type": "code",
   "execution_count": 6,
   "id": "3624ae6c-496c-4b02-9455-1824a03c4308",
   "metadata": {},
   "outputs": [
    {
     "name": "stdout",
     "output_type": "stream",
     "text": [
      "shape of experiment_02 : (1668, 48)\n"
     ]
    },
    {
     "data": {
      "text/html": [
       "<div>\n",
       "<style scoped>\n",
       "    .dataframe tbody tr th:only-of-type {\n",
       "        vertical-align: middle;\n",
       "    }\n",
       "\n",
       "    .dataframe tbody tr th {\n",
       "        vertical-align: top;\n",
       "    }\n",
       "\n",
       "    .dataframe thead th {\n",
       "        text-align: right;\n",
       "    }\n",
       "</style>\n",
       "<table border=\"1\" class=\"dataframe\">\n",
       "  <thead>\n",
       "    <tr style=\"text-align: right;\">\n",
       "      <th></th>\n",
       "      <th>X1_ActualPosition</th>\n",
       "      <th>X1_ActualVelocity</th>\n",
       "      <th>X1_ActualAcceleration</th>\n",
       "      <th>X1_CommandPosition</th>\n",
       "      <th>X1_CommandVelocity</th>\n",
       "      <th>X1_CommandAcceleration</th>\n",
       "      <th>X1_CurrentFeedback</th>\n",
       "      <th>X1_DCBusVoltage</th>\n",
       "      <th>X1_OutputCurrent</th>\n",
       "      <th>X1_OutputVoltage</th>\n",
       "      <th>...</th>\n",
       "      <th>S1_CurrentFeedback</th>\n",
       "      <th>S1_DCBusVoltage</th>\n",
       "      <th>S1_OutputCurrent</th>\n",
       "      <th>S1_OutputVoltage</th>\n",
       "      <th>S1_OutputPower</th>\n",
       "      <th>S1_SystemInertia</th>\n",
       "      <th>M1_CURRENT_PROGRAM_NUMBER</th>\n",
       "      <th>M1_sequence_number</th>\n",
       "      <th>M1_CURRENT_FEEDRATE</th>\n",
       "      <th>Machining_Process</th>\n",
       "    </tr>\n",
       "  </thead>\n",
       "  <tbody>\n",
       "    <tr>\n",
       "      <th>0</th>\n",
       "      <td>198.0</td>\n",
       "      <td>0.0</td>\n",
       "      <td>0.0</td>\n",
       "      <td>198.0</td>\n",
       "      <td>0.0</td>\n",
       "      <td>0.0</td>\n",
       "      <td>-0.284</td>\n",
       "      <td>2.790000e-19</td>\n",
       "      <td>329.0</td>\n",
       "      <td>0.0</td>\n",
       "      <td>...</td>\n",
       "      <td>-1.86</td>\n",
       "      <td>0.0</td>\n",
       "      <td>332.0</td>\n",
       "      <td>0.0</td>\n",
       "      <td>0.0</td>\n",
       "      <td>12.0</td>\n",
       "      <td>1.0</td>\n",
       "      <td>2.0</td>\n",
       "      <td>50.0</td>\n",
       "      <td>Prep</td>\n",
       "    </tr>\n",
       "    <tr>\n",
       "      <th>1</th>\n",
       "      <td>198.0</td>\n",
       "      <td>0.0</td>\n",
       "      <td>0.0</td>\n",
       "      <td>198.0</td>\n",
       "      <td>0.0</td>\n",
       "      <td>0.0</td>\n",
       "      <td>-0.284</td>\n",
       "      <td>2.790000e-19</td>\n",
       "      <td>329.0</td>\n",
       "      <td>0.0</td>\n",
       "      <td>...</td>\n",
       "      <td>-1.86</td>\n",
       "      <td>0.0</td>\n",
       "      <td>332.0</td>\n",
       "      <td>0.0</td>\n",
       "      <td>0.0</td>\n",
       "      <td>12.0</td>\n",
       "      <td>0.0</td>\n",
       "      <td>0.0</td>\n",
       "      <td>50.0</td>\n",
       "      <td>Prep</td>\n",
       "    </tr>\n",
       "  </tbody>\n",
       "</table>\n",
       "<p>2 rows × 48 columns</p>\n",
       "</div>"
      ],
      "text/plain": [
       "   X1_ActualPosition  X1_ActualVelocity  X1_ActualAcceleration  \\\n",
       "0              198.0                0.0                    0.0   \n",
       "1              198.0                0.0                    0.0   \n",
       "\n",
       "   X1_CommandPosition  X1_CommandVelocity  X1_CommandAcceleration  \\\n",
       "0               198.0                 0.0                     0.0   \n",
       "1               198.0                 0.0                     0.0   \n",
       "\n",
       "   X1_CurrentFeedback  X1_DCBusVoltage  X1_OutputCurrent  X1_OutputVoltage  \\\n",
       "0              -0.284     2.790000e-19             329.0               0.0   \n",
       "1              -0.284     2.790000e-19             329.0               0.0   \n",
       "\n",
       "   ...  S1_CurrentFeedback  S1_DCBusVoltage  S1_OutputCurrent  \\\n",
       "0  ...               -1.86              0.0             332.0   \n",
       "1  ...               -1.86              0.0             332.0   \n",
       "\n",
       "   S1_OutputVoltage  S1_OutputPower  S1_SystemInertia  \\\n",
       "0               0.0             0.0              12.0   \n",
       "1               0.0             0.0              12.0   \n",
       "\n",
       "   M1_CURRENT_PROGRAM_NUMBER  M1_sequence_number  M1_CURRENT_FEEDRATE  \\\n",
       "0                        1.0                 2.0                 50.0   \n",
       "1                        0.0                 0.0                 50.0   \n",
       "\n",
       "   Machining_Process  \n",
       "0               Prep  \n",
       "1               Prep  \n",
       "\n",
       "[2 rows x 48 columns]"
      ]
     },
     "execution_count": 6,
     "metadata": {},
     "output_type": "execute_result"
    }
   ],
   "source": [
    "experiment_02 = pd.read_csv(r\"E:/udemy/proj/experiment_02.csv\")\n",
    "print(f'shape of experiment_02 : {experiment_02.shape}')\n",
    "experiment_02.head(2)"
   ]
  },
  {
   "cell_type": "markdown",
   "id": "a9c5c06c-642e-4c3f-bae2-faf989657e94",
   "metadata": {},
   "source": [
    "## Pre-processing<a name=pre></a>\n",
    "### Missing_values<a name=miss></a>\n",
    "As it is seen in the `train_data.info()`, the `train_data` has some Non-values in the column passed_visual_inspection, which is indeed \"No\", i.e. the machining process was not passed the final test. Therefore, we can replace these missing-values by \"No\"."
   ]
  },
  {
   "cell_type": "code",
   "execution_count": 7,
   "id": "e5ef75c1-c1f3-42c5-8546-ff016a4e5e53",
   "metadata": {},
   "outputs": [
    {
     "data": {
      "text/html": [
       "<div>\n",
       "<style scoped>\n",
       "    .dataframe tbody tr th:only-of-type {\n",
       "        vertical-align: middle;\n",
       "    }\n",
       "\n",
       "    .dataframe tbody tr th {\n",
       "        vertical-align: top;\n",
       "    }\n",
       "\n",
       "    .dataframe thead th {\n",
       "        text-align: right;\n",
       "    }\n",
       "</style>\n",
       "<table border=\"1\" class=\"dataframe\">\n",
       "  <thead>\n",
       "    <tr style=\"text-align: right;\">\n",
       "      <th></th>\n",
       "      <th>No</th>\n",
       "      <th>material</th>\n",
       "      <th>feedrate</th>\n",
       "      <th>clamp_pressure</th>\n",
       "      <th>tool_condition</th>\n",
       "      <th>machining_finalized</th>\n",
       "      <th>passed_visual_inspection</th>\n",
       "    </tr>\n",
       "  </thead>\n",
       "  <tbody>\n",
       "    <tr>\n",
       "      <th>0</th>\n",
       "      <td>1</td>\n",
       "      <td>wax</td>\n",
       "      <td>6</td>\n",
       "      <td>4.0</td>\n",
       "      <td>unworn</td>\n",
       "      <td>yes</td>\n",
       "      <td>yes</td>\n",
       "    </tr>\n",
       "    <tr>\n",
       "      <th>1</th>\n",
       "      <td>2</td>\n",
       "      <td>wax</td>\n",
       "      <td>20</td>\n",
       "      <td>4.0</td>\n",
       "      <td>unworn</td>\n",
       "      <td>yes</td>\n",
       "      <td>yes</td>\n",
       "    </tr>\n",
       "    <tr>\n",
       "      <th>2</th>\n",
       "      <td>3</td>\n",
       "      <td>wax</td>\n",
       "      <td>6</td>\n",
       "      <td>3.0</td>\n",
       "      <td>unworn</td>\n",
       "      <td>yes</td>\n",
       "      <td>yes</td>\n",
       "    </tr>\n",
       "    <tr>\n",
       "      <th>3</th>\n",
       "      <td>4</td>\n",
       "      <td>wax</td>\n",
       "      <td>6</td>\n",
       "      <td>2.5</td>\n",
       "      <td>unworn</td>\n",
       "      <td>no</td>\n",
       "      <td>no</td>\n",
       "    </tr>\n",
       "    <tr>\n",
       "      <th>4</th>\n",
       "      <td>5</td>\n",
       "      <td>wax</td>\n",
       "      <td>20</td>\n",
       "      <td>3.0</td>\n",
       "      <td>unworn</td>\n",
       "      <td>no</td>\n",
       "      <td>no</td>\n",
       "    </tr>\n",
       "  </tbody>\n",
       "</table>\n",
       "</div>"
      ],
      "text/plain": [
       "   No material  feedrate  clamp_pressure tool_condition machining_finalized  \\\n",
       "0   1      wax         6             4.0         unworn                 yes   \n",
       "1   2      wax        20             4.0         unworn                 yes   \n",
       "2   3      wax         6             3.0         unworn                 yes   \n",
       "3   4      wax         6             2.5         unworn                  no   \n",
       "4   5      wax        20             3.0         unworn                  no   \n",
       "\n",
       "  passed_visual_inspection  \n",
       "0                      yes  \n",
       "1                      yes  \n",
       "2                      yes  \n",
       "3                       no  \n",
       "4                       no  "
      ]
     },
     "execution_count": 7,
     "metadata": {},
     "output_type": "execute_result"
    }
   ],
   "source": [
    "train_data['passed_visual_inspection'].fillna('no',inplace=True)\n",
    "train_data.head()"
   ]
  },
  {
   "cell_type": "markdown",
   "id": "b9fcadb6-8bbe-47e5-a0f0-9011ddbf1dbc",
   "metadata": {},
   "source": [
    "## Merge data<a name=merge></a>\n",
    "We can merge all experiments and add each row of train_data to the experiments. As you can see in the 'material' column, the only material is \"Wax\". Therefore, we can drop this column."
   ]
  },
  {
   "cell_type": "code",
   "execution_count": 8,
   "id": "a46d2416-3074-4b3a-8931-d81e9065f818",
   "metadata": {},
   "outputs": [
    {
     "data": {
      "text/plain": [
       "array(['wax'], dtype=object)"
      ]
     },
     "execution_count": 8,
     "metadata": {},
     "output_type": "execute_result"
    }
   ],
   "source": [
    "train_data['material'].unique()"
   ]
  },
  {
   "cell_type": "code",
   "execution_count": 10,
   "id": "92a9f755-184d-4ed6-a587-db3eec5f14e4",
   "metadata": {},
   "outputs": [
    {
     "data": {
      "text/html": [
       "<div>\n",
       "<style scoped>\n",
       "    .dataframe tbody tr th:only-of-type {\n",
       "        vertical-align: middle;\n",
       "    }\n",
       "\n",
       "    .dataframe tbody tr th {\n",
       "        vertical-align: top;\n",
       "    }\n",
       "\n",
       "    .dataframe thead th {\n",
       "        text-align: right;\n",
       "    }\n",
       "</style>\n",
       "<table border=\"1\" class=\"dataframe\">\n",
       "  <thead>\n",
       "    <tr style=\"text-align: right;\">\n",
       "      <th></th>\n",
       "      <th>X1_ActualPosition</th>\n",
       "      <th>X1_ActualVelocity</th>\n",
       "      <th>X1_ActualAcceleration</th>\n",
       "      <th>X1_CommandPosition</th>\n",
       "      <th>X1_CommandVelocity</th>\n",
       "      <th>X1_CommandAcceleration</th>\n",
       "      <th>X1_CurrentFeedback</th>\n",
       "      <th>X1_DCBusVoltage</th>\n",
       "      <th>X1_OutputCurrent</th>\n",
       "      <th>X1_OutputVoltage</th>\n",
       "      <th>...</th>\n",
       "      <th>M1_CURRENT_PROGRAM_NUMBER</th>\n",
       "      <th>M1_sequence_number</th>\n",
       "      <th>M1_CURRENT_FEEDRATE</th>\n",
       "      <th>Machining_Process</th>\n",
       "      <th>exp_number</th>\n",
       "      <th>feedrate</th>\n",
       "      <th>clamp_pressure</th>\n",
       "      <th>tool_condition</th>\n",
       "      <th>machining_finalized</th>\n",
       "      <th>passed_visual_inspection</th>\n",
       "    </tr>\n",
       "  </thead>\n",
       "  <tbody>\n",
       "    <tr>\n",
       "      <th>0</th>\n",
       "      <td>198.0</td>\n",
       "      <td>0.0</td>\n",
       "      <td>0.0</td>\n",
       "      <td>198.0</td>\n",
       "      <td>0.0</td>\n",
       "      <td>0.0</td>\n",
       "      <td>0.18</td>\n",
       "      <td>0.0207</td>\n",
       "      <td>329.0</td>\n",
       "      <td>2.77</td>\n",
       "      <td>...</td>\n",
       "      <td>1.0</td>\n",
       "      <td>0.0</td>\n",
       "      <td>50.0</td>\n",
       "      <td>Starting</td>\n",
       "      <td>1</td>\n",
       "      <td>6</td>\n",
       "      <td>4.0</td>\n",
       "      <td>unworn</td>\n",
       "      <td>yes</td>\n",
       "      <td>yes</td>\n",
       "    </tr>\n",
       "    <tr>\n",
       "      <th>1</th>\n",
       "      <td>198.0</td>\n",
       "      <td>-10.8</td>\n",
       "      <td>-350.0</td>\n",
       "      <td>198.0</td>\n",
       "      <td>-13.6</td>\n",
       "      <td>-358.0</td>\n",
       "      <td>-10.90</td>\n",
       "      <td>0.1860</td>\n",
       "      <td>328.0</td>\n",
       "      <td>23.30</td>\n",
       "      <td>...</td>\n",
       "      <td>1.0</td>\n",
       "      <td>4.0</td>\n",
       "      <td>50.0</td>\n",
       "      <td>Prep</td>\n",
       "      <td>1</td>\n",
       "      <td>6</td>\n",
       "      <td>4.0</td>\n",
       "      <td>unworn</td>\n",
       "      <td>yes</td>\n",
       "      <td>yes</td>\n",
       "    </tr>\n",
       "  </tbody>\n",
       "</table>\n",
       "<p>2 rows × 54 columns</p>\n",
       "</div>"
      ],
      "text/plain": [
       "   X1_ActualPosition  X1_ActualVelocity  X1_ActualAcceleration  \\\n",
       "0              198.0                0.0                    0.0   \n",
       "1              198.0              -10.8                 -350.0   \n",
       "\n",
       "   X1_CommandPosition  X1_CommandVelocity  X1_CommandAcceleration  \\\n",
       "0               198.0                 0.0                     0.0   \n",
       "1               198.0               -13.6                  -358.0   \n",
       "\n",
       "   X1_CurrentFeedback  X1_DCBusVoltage  X1_OutputCurrent  X1_OutputVoltage  \\\n",
       "0                0.18           0.0207             329.0              2.77   \n",
       "1              -10.90           0.1860             328.0             23.30   \n",
       "\n",
       "   ...  M1_CURRENT_PROGRAM_NUMBER  M1_sequence_number  M1_CURRENT_FEEDRATE  \\\n",
       "0  ...                        1.0                 0.0                 50.0   \n",
       "1  ...                        1.0                 4.0                 50.0   \n",
       "\n",
       "   Machining_Process  exp_number  feedrate  clamp_pressure  tool_condition  \\\n",
       "0           Starting           1         6             4.0          unworn   \n",
       "1               Prep           1         6             4.0          unworn   \n",
       "\n",
       "   machining_finalized  passed_visual_inspection  \n",
       "0                  yes                       yes  \n",
       "1                  yes                       yes  \n",
       "\n",
       "[2 rows x 54 columns]"
      ]
     },
     "execution_count": 10,
     "metadata": {},
     "output_type": "execute_result"
    }
   ],
   "source": [
    "Merge_frame = []\n",
    "for i in range(1,19):\n",
    "    exp_number = '0' + str(i) if i < 10 else str(i)\n",
    "    exp_data = pd.read_csv(f\"E:/udemy/proj/experiment_{exp_number}.csv\")\n",
    "\n",
    "    train_data_row = train_data[train_data['No'] == i]\n",
    "    exp_data['exp_number'] = i\n",
    "    #add each column of our train_data to the experiments\n",
    "    exp_data['feedrate'] = train_data_row.iloc[0]['feedrate']\n",
    "    exp_data['clamp_pressure'] = train_data_row.iloc[0]['clamp_pressure']\n",
    "    exp_data['tool_condition'] = train_data_row.iloc[0]['tool_condition']\n",
    "    exp_data['machining_finalized'] = train_data_row.iloc[0]['machining_finalized']\n",
    "    exp_data['passed_visual_inspection'] = train_data_row.iloc[0]['passed_visual_inspection']\n",
    "\n",
    "    Merge_frame.append(exp_data)\n",
    "\n",
    "merged_data = pd.concat(Merge_frame, ignore_index = True)\n",
    "merged_data.head(2)"
   ]
  },
  {
   "cell_type": "code",
   "execution_count": 11,
   "id": "5e64c39f-414f-4c93-a68a-a0bf7bdda6c6",
   "metadata": {},
   "outputs": [
    {
     "name": "stdout",
     "output_type": "stream",
     "text": [
      "<class 'pandas.core.frame.DataFrame'>\n",
      "RangeIndex: 25286 entries, 0 to 25285\n",
      "Data columns (total 54 columns):\n",
      " #   Column                     Non-Null Count  Dtype  \n",
      "---  ------                     --------------  -----  \n",
      " 0   X1_ActualPosition          25286 non-null  float64\n",
      " 1   X1_ActualVelocity          25286 non-null  float64\n",
      " 2   X1_ActualAcceleration      25286 non-null  float64\n",
      " 3   X1_CommandPosition         25286 non-null  float64\n",
      " 4   X1_CommandVelocity         25286 non-null  float64\n",
      " 5   X1_CommandAcceleration     25286 non-null  float64\n",
      " 6   X1_CurrentFeedback         25286 non-null  float64\n",
      " 7   X1_DCBusVoltage            25286 non-null  float64\n",
      " 8   X1_OutputCurrent           25286 non-null  float64\n",
      " 9   X1_OutputVoltage           25286 non-null  float64\n",
      " 10  X1_OutputPower             25286 non-null  float64\n",
      " 11  Y1_ActualPosition          25286 non-null  float64\n",
      " 12  Y1_ActualVelocity          25286 non-null  float64\n",
      " 13  Y1_ActualAcceleration      25286 non-null  float64\n",
      " 14  Y1_CommandPosition         25286 non-null  float64\n",
      " 15  Y1_CommandVelocity         25286 non-null  float64\n",
      " 16  Y1_CommandAcceleration     25286 non-null  float64\n",
      " 17  Y1_CurrentFeedback         25286 non-null  float64\n",
      " 18  Y1_DCBusVoltage            25286 non-null  float64\n",
      " 19  Y1_OutputCurrent           25286 non-null  float64\n",
      " 20  Y1_OutputVoltage           25286 non-null  float64\n",
      " 21  Y1_OutputPower             25286 non-null  float64\n",
      " 22  Z1_ActualPosition          25286 non-null  float64\n",
      " 23  Z1_ActualVelocity          25286 non-null  float64\n",
      " 24  Z1_ActualAcceleration      25286 non-null  float64\n",
      " 25  Z1_CommandPosition         25286 non-null  float64\n",
      " 26  Z1_CommandVelocity         25286 non-null  float64\n",
      " 27  Z1_CommandAcceleration     25286 non-null  float64\n",
      " 28  Z1_CurrentFeedback         25286 non-null  float64\n",
      " 29  Z1_DCBusVoltage            25286 non-null  float64\n",
      " 30  Z1_OutputCurrent           25286 non-null  float64\n",
      " 31  Z1_OutputVoltage           25286 non-null  float64\n",
      " 32  S1_ActualPosition          25286 non-null  float64\n",
      " 33  S1_ActualVelocity          25286 non-null  float64\n",
      " 34  S1_ActualAcceleration      25286 non-null  float64\n",
      " 35  S1_CommandPosition         25286 non-null  float64\n",
      " 36  S1_CommandVelocity         25286 non-null  float64\n",
      " 37  S1_CommandAcceleration     25286 non-null  float64\n",
      " 38  S1_CurrentFeedback         25286 non-null  float64\n",
      " 39  S1_DCBusVoltage            25286 non-null  float64\n",
      " 40  S1_OutputCurrent           25286 non-null  float64\n",
      " 41  S1_OutputVoltage           25286 non-null  float64\n",
      " 42  S1_OutputPower             25286 non-null  float64\n",
      " 43  S1_SystemInertia           25286 non-null  float64\n",
      " 44  M1_CURRENT_PROGRAM_NUMBER  25286 non-null  float64\n",
      " 45  M1_sequence_number         25286 non-null  float64\n",
      " 46  M1_CURRENT_FEEDRATE        25286 non-null  float64\n",
      " 47  Machining_Process          25286 non-null  object \n",
      " 48  exp_number                 25286 non-null  int64  \n",
      " 49  feedrate                   25286 non-null  int64  \n",
      " 50  clamp_pressure             25286 non-null  float64\n",
      " 51  tool_condition             25286 non-null  object \n",
      " 52  machining_finalized        25286 non-null  object \n",
      " 53  passed_visual_inspection   25286 non-null  object \n",
      "dtypes: float64(48), int64(2), object(4)\n",
      "memory usage: 10.4+ MB\n"
     ]
    }
   ],
   "source": [
    "merged_data.info()"
   ]
  },
  {
   "cell_type": "code",
   "execution_count": 12,
   "id": "6011d90c-dc9f-4f89-b248-fab8366a4067",
   "metadata": {},
   "outputs": [
    {
     "data": {
      "text/plain": [
       "array(['Starting', 'Prep', 'Layer 1 Up', 'Layer 1 Down', 'Repositioning',\n",
       "       'Layer 2 Up', 'Layer 2 Down', 'Layer 3 Up', 'Layer 3 Down', 'end',\n",
       "       'End'], dtype=object)"
      ]
     },
     "execution_count": 12,
     "metadata": {},
     "output_type": "execute_result"
    }
   ],
   "source": [
    "merged_data['Machining_Process'].unique()"
   ]
  },
  {
   "cell_type": "code",
   "execution_count": 13,
   "id": "12bc3657-bd9c-45ed-9288-22e99105dac5",
   "metadata": {},
   "outputs": [
    {
     "data": {
      "text/plain": [
       "Machining_Process\n",
       "Starting            1\n",
       "end                 8\n",
       "Prep             1795\n",
       "Layer 3 Down     2354\n",
       "Layer 2 Down     2528\n",
       "End              2585\n",
       "Layer 1 Down     2655\n",
       "Layer 3 Up       2794\n",
       "Layer 2 Up       3104\n",
       "Repositioning    3377\n",
       "Layer 1 Up       4085\n",
       "Name: count, dtype: int64"
      ]
     },
     "execution_count": 13,
     "metadata": {},
     "output_type": "execute_result"
    }
   ],
   "source": [
    "merged_data['Machining_Process'].value_counts().sort_values()"
   ]
  },
  {
   "cell_type": "markdown",
   "id": "f4319ce1-97e2-4c40-8f93-2ce726018d2b",
   "metadata": {},
   "source": [
    "I assume 'End' and 'end' are the same result in the \"Machining_Process\" column. So we can use only 'End'. In addition, we have only one row with the value \"Starting\", so I think it can be included in the \"Prep\" category."
   ]
  },
  {
   "cell_type": "code",
   "execution_count": 16,
   "id": "a45037a0-812f-4568-ba2e-63915170da76",
   "metadata": {},
   "outputs": [
    {
     "data": {
      "text/plain": [
       "array(['Prep', 'Layer 1 Up', 'Layer 1 Down', 'Repositioning',\n",
       "       'Layer 2 Up', 'Layer 2 Down', 'Layer 3 Up', 'Layer 3 Down', 'End'],\n",
       "      dtype=object)"
      ]
     },
     "execution_count": 16,
     "metadata": {},
     "output_type": "execute_result"
    }
   ],
   "source": [
    "merged_data.replace({'Machining_Process':{'end':'End','Starting':'Prep'}},inplace=True)\n",
    "merged_data['Machining_Process'].unique()"
   ]
  },
  {
   "cell_type": "code",
   "execution_count": null,
   "id": "f0698083-6f0a-4c3e-8538-75edf4f62b60",
   "metadata": {},
   "outputs": [],
   "source": []
  }
 ],
 "metadata": {
  "kernelspec": {
   "display_name": "Python 3 (ipykernel)",
   "language": "python",
   "name": "python3"
  },
  "language_info": {
   "codemirror_mode": {
    "name": "ipython",
    "version": 3
   },
   "file_extension": ".py",
   "mimetype": "text/x-python",
   "name": "python",
   "nbconvert_exporter": "python",
   "pygments_lexer": "ipython3",
   "version": "3.11.6"
  }
 },
 "nbformat": 4,
 "nbformat_minor": 5
}
